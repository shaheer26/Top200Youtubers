{
 "cells": [
  {
   "cell_type": "markdown",
   "id": "2df52bd5",
   "metadata": {},
   "source": [
    "YouTube is an American online video sharing and social media platform headquartered in San Bruno, California. It was launched on February 14, 2005, by Steve Chen, Chad Hurley, and Jawed Karim. \n",
    "\n",
    "It is owned by Google, and is the second most visited website, after Google Search. YouTube has more than 2.5 billion monthly users who collectively watch more than one billion hours of videos each day. As of May 2019, videos were being uploaded at a rate of more than 500 hours of content per minute.\n",
    "\n",
    "Youtube is very much used to influence, educate, free university (for me also) people (the users followers) in a particular way for a specific issue - which can impact the order in some ways.\n"
   ]
  },
  {
   "cell_type": "markdown",
   "id": "b4c78200",
   "metadata": {},
   "source": [
    "Data Dictionary:"
   ]
  },
  {
   "cell_type": "markdown",
   "id": "4bdd2613",
   "metadata": {},
   "source": [
    "1.\tCountry: Name of the country ('IN', 'US', 'KR', 'CA', 'BR', 'MX', 'SV', 'CL', 'NO', 'PR', 'BY', 'RU', 'PH', 'TH', 'AE', 'CO', 'ES', 'GB', 'AR', 'ID', 'NL','ES', 'IE', 'PK', 'AU', 'KW', 'SO')\n",
    "2.\tChannel Name: Name of the channel\n",
    "3.\tCategory: Category ('Gaming & Apps','Sports', 'Music', 'Beauty & Fashion', 'Science & Tech', 'Fashion', 'LifeStyle')\n",
    "4.\tMain Video Category: ('Music', 'Education', 'Shows', 'Gaming', 'Entertainment', 'People & Blogs', 'Sports', 'Howto & Style', 'Film & Animation', 'News & Politics', 'Pop music', 'Comedy', 'Nonprofits & Activism', 'Action-adventure game', 'Strategy video game', 'TV shows')\n",
    "5.\tUsername: Username of the youtube channel\n",
    "6.\tFollowers: No. of followers\n",
    "7.\tMain topic: Topic that has been discussed more.\n",
    "8.\tMore Topics: Topics apart from main topic.\n",
    "9.\tLikes: Total Likes\n",
    "10.\tBoost Index: Boost index value.\n",
    "11.\tEngagement Rate: Rate of engagement with the users.\n",
    "12.\tEngagement Rate 60days: Rate of engagement with the users for 60 days\n",
    "13.\tView: Total Views\n",
    "14.\tViews. Avg: Average views\n",
    "15.\tAvg. 1 Day: Average views for one day\n",
    "16.\tAvg. 3 Day: Average views for 3 days\n",
    "17.\tAvg. 7 Day: Average views for 7 days\n",
    "18.\tAvg. 14 Day: Average views for 14 days\n",
    "19.\tAvg. 30 Day: Average view for 30 days\n",
    "20.\tAvg. 60 Day: Average view for 60 days\n",
    "21.\tComments Avg: Average comments.\n",
    "22.\tYoutube Link: Link of the channel\n"
   ]
  },
  {
   "cell_type": "markdown",
   "id": "2a6ea37f",
   "metadata": {},
   "source": [
    "REFERENCE:\n",
    "    \n",
    "https://www.kaggle.com/datasets/syedjaferk/top-200-youtubers-cleaned"
   ]
  },
  {
   "cell_type": "code",
   "execution_count": 1,
   "id": "7a420cbe",
   "metadata": {},
   "outputs": [],
   "source": [
    "# IMPORT THE RELEVANT LIBRARIES\n",
    "\n",
    "import pandas as pd\n",
    "import numpy as np\n",
    "import matplotlib.pyplot as plt\n",
    "import seaborn as sns\n",
    "import os"
   ]
  },
  {
   "cell_type": "code",
   "execution_count": 2,
   "id": "f4155a54",
   "metadata": {
    "scrolled": true
   },
   "outputs": [
    {
     "data": {
      "text/html": [
       "<div>\n",
       "<style scoped>\n",
       "    .dataframe tbody tr th:only-of-type {\n",
       "        vertical-align: middle;\n",
       "    }\n",
       "\n",
       "    .dataframe tbody tr th {\n",
       "        vertical-align: top;\n",
       "    }\n",
       "\n",
       "    .dataframe thead th {\n",
       "        text-align: right;\n",
       "    }\n",
       "</style>\n",
       "<table border=\"1\" class=\"dataframe\">\n",
       "  <thead>\n",
       "    <tr style=\"text-align: right;\">\n",
       "      <th></th>\n",
       "      <th>Country</th>\n",
       "      <th>Channel Name</th>\n",
       "      <th>Category</th>\n",
       "      <th>Main Video Category</th>\n",
       "      <th>username</th>\n",
       "      <th>followers</th>\n",
       "      <th>Main topic</th>\n",
       "      <th>More topics</th>\n",
       "      <th>Likes</th>\n",
       "      <th>Boost Index</th>\n",
       "      <th>...</th>\n",
       "      <th>Views</th>\n",
       "      <th>Views Avg.</th>\n",
       "      <th>Avg. 1 Day</th>\n",
       "      <th>Avg. 3 Day</th>\n",
       "      <th>Avg. 7 Day</th>\n",
       "      <th>Avg. 14 Day</th>\n",
       "      <th>Avg. 30 day</th>\n",
       "      <th>Avg. 60 day</th>\n",
       "      <th>Comments Avg</th>\n",
       "      <th>Youtube Link</th>\n",
       "    </tr>\n",
       "  </thead>\n",
       "  <tbody>\n",
       "    <tr>\n",
       "      <th>0</th>\n",
       "      <td>IN</td>\n",
       "      <td>T-Series</td>\n",
       "      <td>Gaming &amp; Apps</td>\n",
       "      <td>Music</td>\n",
       "      <td>T-Series</td>\n",
       "      <td>220000000</td>\n",
       "      <td>Music of Asia</td>\n",
       "      <td>Entertainment,Music of Asia,Music,Movies</td>\n",
       "      <td>1.602680e+09</td>\n",
       "      <td>83</td>\n",
       "      <td>...</td>\n",
       "      <td>195660744416</td>\n",
       "      <td>2.095329e+06</td>\n",
       "      <td>1.522448e+05</td>\n",
       "      <td>2134569.625</td>\n",
       "      <td>1.809830e+06</td>\n",
       "      <td>2.306178e+06</td>\n",
       "      <td>1.676330e+06</td>\n",
       "      <td>2.295416e+06</td>\n",
       "      <td>4493.984146</td>\n",
       "      <td>UCq-Fj5jknLsUf-MWSy4_brA</td>\n",
       "    </tr>\n",
       "    <tr>\n",
       "      <th>1</th>\n",
       "      <td>US</td>\n",
       "      <td>ABCkidTV - Nursery Rhymes</td>\n",
       "      <td>Gaming &amp; Apps</td>\n",
       "      <td>Education</td>\n",
       "      <td>ABCkidTV - Nursery Rhymes</td>\n",
       "      <td>138000000</td>\n",
       "      <td>Movies</td>\n",
       "      <td>Entertainment,Music,Movies</td>\n",
       "      <td>2.209901e+08</td>\n",
       "      <td>63</td>\n",
       "      <td>...</td>\n",
       "      <td>133025325473</td>\n",
       "      <td>7.027126e+07</td>\n",
       "      <td>1.837916e+06</td>\n",
       "      <td>1837916.000</td>\n",
       "      <td>4.891832e+06</td>\n",
       "      <td>7.052576e+06</td>\n",
       "      <td>1.265433e+07</td>\n",
       "      <td>1.572284e+07</td>\n",
       "      <td>146.700252</td>\n",
       "      <td>UCbCmjCuTUZos6Inko4u57UQ</td>\n",
       "    </tr>\n",
       "    <tr>\n",
       "      <th>2</th>\n",
       "      <td>IN</td>\n",
       "      <td>SET India</td>\n",
       "      <td>Gaming &amp; Apps</td>\n",
       "      <td>Shows</td>\n",
       "      <td>SET India</td>\n",
       "      <td>137000000</td>\n",
       "      <td>Movies</td>\n",
       "      <td>Entertainment,TV shows,Music,Movies</td>\n",
       "      <td>1.748752e+08</td>\n",
       "      <td>79</td>\n",
       "      <td>...</td>\n",
       "      <td>121741739317</td>\n",
       "      <td>1.095729e+05</td>\n",
       "      <td>NaN</td>\n",
       "      <td>586040.000</td>\n",
       "      <td>2.801276e+05</td>\n",
       "      <td>3.437881e+05</td>\n",
       "      <td>3.536019e+05</td>\n",
       "      <td>3.220336e+05</td>\n",
       "      <td>76.244316</td>\n",
       "      <td>UCpEhnqL0y41EpW2TvWAHD7Q</td>\n",
       "    </tr>\n",
       "    <tr>\n",
       "      <th>3</th>\n",
       "      <td>US</td>\n",
       "      <td>PewDiePie</td>\n",
       "      <td>Gaming &amp; Apps</td>\n",
       "      <td>Gaming</td>\n",
       "      <td>PewDiePie</td>\n",
       "      <td>111000000</td>\n",
       "      <td>Lifestyle</td>\n",
       "      <td>Gaming,Action game,Lifestyle,Action-adventure ...</td>\n",
       "      <td>2.191406e+09</td>\n",
       "      <td>88</td>\n",
       "      <td>...</td>\n",
       "      <td>28424113942</td>\n",
       "      <td>7.718345e+06</td>\n",
       "      <td>NaN</td>\n",
       "      <td>NaN</td>\n",
       "      <td>3.497395e+06</td>\n",
       "      <td>3.094440e+06</td>\n",
       "      <td>3.620274e+06</td>\n",
       "      <td>4.454120e+06</td>\n",
       "      <td>35839.781347</td>\n",
       "      <td>UC-lHJZR3Gqxm24_Vd_AJ5Yw</td>\n",
       "    </tr>\n",
       "    <tr>\n",
       "      <th>4</th>\n",
       "      <td>US</td>\n",
       "      <td>MrBeast</td>\n",
       "      <td>Gaming &amp; Apps</td>\n",
       "      <td>Entertainment</td>\n",
       "      <td>MrBeast</td>\n",
       "      <td>98100000</td>\n",
       "      <td>Lifestyle</td>\n",
       "      <td>Entertainment,Lifestyle,Technology</td>\n",
       "      <td>1.731833e+09</td>\n",
       "      <td>60</td>\n",
       "      <td>...</td>\n",
       "      <td>16242634269</td>\n",
       "      <td>9.876250e+07</td>\n",
       "      <td>NaN</td>\n",
       "      <td>NaN</td>\n",
       "      <td>2.994102e+07</td>\n",
       "      <td>2.994102e+07</td>\n",
       "      <td>2.994102e+07</td>\n",
       "      <td>5.343473e+07</td>\n",
       "      <td>113432.373684</td>\n",
       "      <td>UCX6OQ3DkcsbYNE6H8uQQuVA</td>\n",
       "    </tr>\n",
       "  </tbody>\n",
       "</table>\n",
       "<p>5 rows × 22 columns</p>\n",
       "</div>"
      ],
      "text/plain": [
       "  Country               Channel Name       Category Main Video Category  \\\n",
       "0      IN                   T-Series  Gaming & Apps               Music   \n",
       "1      US  ABCkidTV - Nursery Rhymes  Gaming & Apps           Education   \n",
       "2      IN                  SET India  Gaming & Apps               Shows   \n",
       "3      US                  PewDiePie  Gaming & Apps              Gaming   \n",
       "4      US                    MrBeast  Gaming & Apps       Entertainment   \n",
       "\n",
       "                    username  followers     Main topic  \\\n",
       "0                   T-Series  220000000  Music of Asia   \n",
       "1  ABCkidTV - Nursery Rhymes  138000000         Movies   \n",
       "2                  SET India  137000000         Movies   \n",
       "3                  PewDiePie  111000000      Lifestyle   \n",
       "4                    MrBeast   98100000      Lifestyle   \n",
       "\n",
       "                                         More topics         Likes  \\\n",
       "0           Entertainment,Music of Asia,Music,Movies  1.602680e+09   \n",
       "1                         Entertainment,Music,Movies  2.209901e+08   \n",
       "2                Entertainment,TV shows,Music,Movies  1.748752e+08   \n",
       "3  Gaming,Action game,Lifestyle,Action-adventure ...  2.191406e+09   \n",
       "4                 Entertainment,Lifestyle,Technology  1.731833e+09   \n",
       "\n",
       "   Boost Index  ...         Views    Views Avg.    Avg. 1 Day   Avg. 3 Day  \\\n",
       "0           83  ...  195660744416  2.095329e+06  1.522448e+05  2134569.625   \n",
       "1           63  ...  133025325473  7.027126e+07  1.837916e+06  1837916.000   \n",
       "2           79  ...  121741739317  1.095729e+05           NaN   586040.000   \n",
       "3           88  ...   28424113942  7.718345e+06           NaN          NaN   \n",
       "4           60  ...   16242634269  9.876250e+07           NaN          NaN   \n",
       "\n",
       "     Avg. 7 Day   Avg. 14 Day   Avg. 30 day   Avg. 60 day   Comments Avg  \\\n",
       "0  1.809830e+06  2.306178e+06  1.676330e+06  2.295416e+06    4493.984146   \n",
       "1  4.891832e+06  7.052576e+06  1.265433e+07  1.572284e+07     146.700252   \n",
       "2  2.801276e+05  3.437881e+05  3.536019e+05  3.220336e+05      76.244316   \n",
       "3  3.497395e+06  3.094440e+06  3.620274e+06  4.454120e+06   35839.781347   \n",
       "4  2.994102e+07  2.994102e+07  2.994102e+07  5.343473e+07  113432.373684   \n",
       "\n",
       "               Youtube Link  \n",
       "0  UCq-Fj5jknLsUf-MWSy4_brA  \n",
       "1  UCbCmjCuTUZos6Inko4u57UQ  \n",
       "2  UCpEhnqL0y41EpW2TvWAHD7Q  \n",
       "3  UC-lHJZR3Gqxm24_Vd_AJ5Yw  \n",
       "4  UCX6OQ3DkcsbYNE6H8uQQuVA  \n",
       "\n",
       "[5 rows x 22 columns]"
      ]
     },
     "execution_count": 2,
     "metadata": {},
     "output_type": "execute_result"
    }
   ],
   "source": [
    "# IMPORT CSV FILE THAT CONTAINS LIST OF YOUTUBERS:\n",
    "\n",
    "top_youtubers = pd.read_csv('C:/Program Files/PostgreSQL/14/data/Data/top_200_youtubers.csv')\n",
    "top_youtubers.head()"
   ]
  },
  {
   "cell_type": "code",
   "execution_count": 3,
   "id": "264249a2",
   "metadata": {},
   "outputs": [
    {
     "data": {
      "text/plain": [
       "(857, 22)"
      ]
     },
     "execution_count": 3,
     "metadata": {},
     "output_type": "execute_result"
    }
   ],
   "source": [
    "# DIMENSION OF THE FULL DATA\n",
    "top_youtubers.shape"
   ]
  },
  {
   "cell_type": "code",
   "execution_count": 4,
   "id": "ce9ce436",
   "metadata": {},
   "outputs": [
    {
     "data": {
      "text/html": [
       "<div>\n",
       "<style scoped>\n",
       "    .dataframe tbody tr th:only-of-type {\n",
       "        vertical-align: middle;\n",
       "    }\n",
       "\n",
       "    .dataframe tbody tr th {\n",
       "        vertical-align: top;\n",
       "    }\n",
       "\n",
       "    .dataframe thead th {\n",
       "        text-align: right;\n",
       "    }\n",
       "</style>\n",
       "<table border=\"1\" class=\"dataframe\">\n",
       "  <thead>\n",
       "    <tr style=\"text-align: right;\">\n",
       "      <th></th>\n",
       "      <th>Country</th>\n",
       "      <th>Channel Name</th>\n",
       "      <th>Category</th>\n",
       "      <th>Main Video Category</th>\n",
       "      <th>username</th>\n",
       "      <th>followers</th>\n",
       "      <th>Main topic</th>\n",
       "      <th>More topics</th>\n",
       "      <th>Likes</th>\n",
       "      <th>Boost Index</th>\n",
       "      <th>...</th>\n",
       "      <th>Views</th>\n",
       "      <th>Views Avg.</th>\n",
       "      <th>Avg. 1 Day</th>\n",
       "      <th>Avg. 3 Day</th>\n",
       "      <th>Avg. 7 Day</th>\n",
       "      <th>Avg. 14 Day</th>\n",
       "      <th>Avg. 30 day</th>\n",
       "      <th>Avg. 60 day</th>\n",
       "      <th>Comments Avg</th>\n",
       "      <th>Youtube Link</th>\n",
       "    </tr>\n",
       "  </thead>\n",
       "  <tbody>\n",
       "    <tr>\n",
       "      <th>0</th>\n",
       "      <td>IN</td>\n",
       "      <td>T-Series</td>\n",
       "      <td>Gaming &amp; Apps</td>\n",
       "      <td>Music</td>\n",
       "      <td>T-Series</td>\n",
       "      <td>220000000</td>\n",
       "      <td>Music of Asia</td>\n",
       "      <td>Entertainment,Music of Asia,Music,Movies</td>\n",
       "      <td>1.602680e+09</td>\n",
       "      <td>83</td>\n",
       "      <td>...</td>\n",
       "      <td>195660744416</td>\n",
       "      <td>2.095329e+06</td>\n",
       "      <td>1.522448e+05</td>\n",
       "      <td>2134569.625</td>\n",
       "      <td>1.809830e+06</td>\n",
       "      <td>2.306178e+06</td>\n",
       "      <td>1.676330e+06</td>\n",
       "      <td>2.295416e+06</td>\n",
       "      <td>4493.984146</td>\n",
       "      <td>UCq-Fj5jknLsUf-MWSy4_brA</td>\n",
       "    </tr>\n",
       "    <tr>\n",
       "      <th>1</th>\n",
       "      <td>US</td>\n",
       "      <td>ABCkidTV - Nursery Rhymes</td>\n",
       "      <td>Gaming &amp; Apps</td>\n",
       "      <td>Education</td>\n",
       "      <td>ABCkidTV - Nursery Rhymes</td>\n",
       "      <td>138000000</td>\n",
       "      <td>Movies</td>\n",
       "      <td>Entertainment,Music,Movies</td>\n",
       "      <td>2.209901e+08</td>\n",
       "      <td>63</td>\n",
       "      <td>...</td>\n",
       "      <td>133025325473</td>\n",
       "      <td>7.027126e+07</td>\n",
       "      <td>1.837916e+06</td>\n",
       "      <td>1837916.000</td>\n",
       "      <td>4.891832e+06</td>\n",
       "      <td>7.052576e+06</td>\n",
       "      <td>1.265433e+07</td>\n",
       "      <td>1.572284e+07</td>\n",
       "      <td>146.700252</td>\n",
       "      <td>UCbCmjCuTUZos6Inko4u57UQ</td>\n",
       "    </tr>\n",
       "    <tr>\n",
       "      <th>2</th>\n",
       "      <td>IN</td>\n",
       "      <td>SET India</td>\n",
       "      <td>Gaming &amp; Apps</td>\n",
       "      <td>Shows</td>\n",
       "      <td>SET India</td>\n",
       "      <td>137000000</td>\n",
       "      <td>Movies</td>\n",
       "      <td>Entertainment,TV shows,Music,Movies</td>\n",
       "      <td>1.748752e+08</td>\n",
       "      <td>79</td>\n",
       "      <td>...</td>\n",
       "      <td>121741739317</td>\n",
       "      <td>1.095729e+05</td>\n",
       "      <td>NaN</td>\n",
       "      <td>586040.000</td>\n",
       "      <td>2.801276e+05</td>\n",
       "      <td>3.437881e+05</td>\n",
       "      <td>3.536019e+05</td>\n",
       "      <td>3.220336e+05</td>\n",
       "      <td>76.244316</td>\n",
       "      <td>UCpEhnqL0y41EpW2TvWAHD7Q</td>\n",
       "    </tr>\n",
       "    <tr>\n",
       "      <th>3</th>\n",
       "      <td>US</td>\n",
       "      <td>PewDiePie</td>\n",
       "      <td>Gaming &amp; Apps</td>\n",
       "      <td>Gaming</td>\n",
       "      <td>PewDiePie</td>\n",
       "      <td>111000000</td>\n",
       "      <td>Lifestyle</td>\n",
       "      <td>Gaming,Action game,Lifestyle,Action-adventure ...</td>\n",
       "      <td>2.191406e+09</td>\n",
       "      <td>88</td>\n",
       "      <td>...</td>\n",
       "      <td>28424113942</td>\n",
       "      <td>7.718345e+06</td>\n",
       "      <td>NaN</td>\n",
       "      <td>NaN</td>\n",
       "      <td>3.497395e+06</td>\n",
       "      <td>3.094440e+06</td>\n",
       "      <td>3.620274e+06</td>\n",
       "      <td>4.454120e+06</td>\n",
       "      <td>35839.781347</td>\n",
       "      <td>UC-lHJZR3Gqxm24_Vd_AJ5Yw</td>\n",
       "    </tr>\n",
       "    <tr>\n",
       "      <th>4</th>\n",
       "      <td>US</td>\n",
       "      <td>MrBeast</td>\n",
       "      <td>Gaming &amp; Apps</td>\n",
       "      <td>Entertainment</td>\n",
       "      <td>MrBeast</td>\n",
       "      <td>98100000</td>\n",
       "      <td>Lifestyle</td>\n",
       "      <td>Entertainment,Lifestyle,Technology</td>\n",
       "      <td>1.731833e+09</td>\n",
       "      <td>60</td>\n",
       "      <td>...</td>\n",
       "      <td>16242634269</td>\n",
       "      <td>9.876250e+07</td>\n",
       "      <td>NaN</td>\n",
       "      <td>NaN</td>\n",
       "      <td>2.994102e+07</td>\n",
       "      <td>2.994102e+07</td>\n",
       "      <td>2.994102e+07</td>\n",
       "      <td>5.343473e+07</td>\n",
       "      <td>113432.373684</td>\n",
       "      <td>UCX6OQ3DkcsbYNE6H8uQQuVA</td>\n",
       "    </tr>\n",
       "  </tbody>\n",
       "</table>\n",
       "<p>5 rows × 22 columns</p>\n",
       "</div>"
      ],
      "text/plain": [
       "  Country               Channel Name       Category Main Video Category  \\\n",
       "0      IN                   T-Series  Gaming & Apps               Music   \n",
       "1      US  ABCkidTV - Nursery Rhymes  Gaming & Apps           Education   \n",
       "2      IN                  SET India  Gaming & Apps               Shows   \n",
       "3      US                  PewDiePie  Gaming & Apps              Gaming   \n",
       "4      US                    MrBeast  Gaming & Apps       Entertainment   \n",
       "\n",
       "                    username  followers     Main topic  \\\n",
       "0                   T-Series  220000000  Music of Asia   \n",
       "1  ABCkidTV - Nursery Rhymes  138000000         Movies   \n",
       "2                  SET India  137000000         Movies   \n",
       "3                  PewDiePie  111000000      Lifestyle   \n",
       "4                    MrBeast   98100000      Lifestyle   \n",
       "\n",
       "                                         More topics         Likes  \\\n",
       "0           Entertainment,Music of Asia,Music,Movies  1.602680e+09   \n",
       "1                         Entertainment,Music,Movies  2.209901e+08   \n",
       "2                Entertainment,TV shows,Music,Movies  1.748752e+08   \n",
       "3  Gaming,Action game,Lifestyle,Action-adventure ...  2.191406e+09   \n",
       "4                 Entertainment,Lifestyle,Technology  1.731833e+09   \n",
       "\n",
       "   Boost Index  ...         Views    Views Avg.    Avg. 1 Day   Avg. 3 Day  \\\n",
       "0           83  ...  195660744416  2.095329e+06  1.522448e+05  2134569.625   \n",
       "1           63  ...  133025325473  7.027126e+07  1.837916e+06  1837916.000   \n",
       "2           79  ...  121741739317  1.095729e+05           NaN   586040.000   \n",
       "3           88  ...   28424113942  7.718345e+06           NaN          NaN   \n",
       "4           60  ...   16242634269  9.876250e+07           NaN          NaN   \n",
       "\n",
       "     Avg. 7 Day   Avg. 14 Day   Avg. 30 day   Avg. 60 day   Comments Avg  \\\n",
       "0  1.809830e+06  2.306178e+06  1.676330e+06  2.295416e+06    4493.984146   \n",
       "1  4.891832e+06  7.052576e+06  1.265433e+07  1.572284e+07     146.700252   \n",
       "2  2.801276e+05  3.437881e+05  3.536019e+05  3.220336e+05      76.244316   \n",
       "3  3.497395e+06  3.094440e+06  3.620274e+06  4.454120e+06   35839.781347   \n",
       "4  2.994102e+07  2.994102e+07  2.994102e+07  5.343473e+07  113432.373684   \n",
       "\n",
       "               Youtube Link  \n",
       "0  UCq-Fj5jknLsUf-MWSy4_brA  \n",
       "1  UCbCmjCuTUZos6Inko4u57UQ  \n",
       "2  UCpEhnqL0y41EpW2TvWAHD7Q  \n",
       "3  UC-lHJZR3Gqxm24_Vd_AJ5Yw  \n",
       "4  UCX6OQ3DkcsbYNE6H8uQQuVA  \n",
       "\n",
       "[5 rows x 22 columns]"
      ]
     },
     "execution_count": 4,
     "metadata": {},
     "output_type": "execute_result"
    }
   ],
   "source": [
    "# REDUCE THE SHAPE OF THE DATA TO REMOVE DUPLICATES\n",
    "top_youtubers_updated = top_youtubers.drop_duplicates(subset=None, keep='first', inplace=None)\n",
    "top_youtubers_updated.head()"
   ]
  },
  {
   "cell_type": "code",
   "execution_count": 5,
   "id": "ad9e93b7",
   "metadata": {},
   "outputs": [
    {
     "data": {
      "text/plain": [
       "(200, 22)"
      ]
     },
     "execution_count": 5,
     "metadata": {},
     "output_type": "execute_result"
    }
   ],
   "source": [
    "# DIMENSION OF THE REDUCED DATA:\n",
    "top_youtubers_updated.shape"
   ]
  },
  {
   "cell_type": "code",
   "execution_count": 6,
   "id": "219d0d19",
   "metadata": {
    "scrolled": false
   },
   "outputs": [
    {
     "data": {
      "text/html": [
       "<div>\n",
       "<style scoped>\n",
       "    .dataframe tbody tr th:only-of-type {\n",
       "        vertical-align: middle;\n",
       "    }\n",
       "\n",
       "    .dataframe tbody tr th {\n",
       "        vertical-align: top;\n",
       "    }\n",
       "\n",
       "    .dataframe thead th {\n",
       "        text-align: right;\n",
       "    }\n",
       "</style>\n",
       "<table border=\"1\" class=\"dataframe\">\n",
       "  <thead>\n",
       "    <tr style=\"text-align: right;\">\n",
       "      <th></th>\n",
       "      <th>Country</th>\n",
       "      <th>Channel Name</th>\n",
       "      <th>Category</th>\n",
       "      <th>Main Video Category</th>\n",
       "      <th>username</th>\n",
       "      <th>followers</th>\n",
       "      <th>Main topic</th>\n",
       "      <th>More topics</th>\n",
       "      <th>Likes</th>\n",
       "      <th>Boost Index</th>\n",
       "      <th>...</th>\n",
       "      <th>Views</th>\n",
       "      <th>Views Avg.</th>\n",
       "      <th>Avg. 1 Day</th>\n",
       "      <th>Avg. 3 Day</th>\n",
       "      <th>Avg. 7 Day</th>\n",
       "      <th>Avg. 14 Day</th>\n",
       "      <th>Avg. 30 day</th>\n",
       "      <th>Avg. 60 day</th>\n",
       "      <th>Comments Avg</th>\n",
       "      <th>Youtube Link</th>\n",
       "    </tr>\n",
       "  </thead>\n",
       "  <tbody>\n",
       "    <tr>\n",
       "      <th>0</th>\n",
       "      <td>IN</td>\n",
       "      <td>T-Series</td>\n",
       "      <td>Gaming &amp; Apps</td>\n",
       "      <td>Music</td>\n",
       "      <td>T-Series</td>\n",
       "      <td>220000000</td>\n",
       "      <td>Music of Asia</td>\n",
       "      <td>Entertainment,Music of Asia,Music,Movies</td>\n",
       "      <td>1.602680e+09</td>\n",
       "      <td>83</td>\n",
       "      <td>...</td>\n",
       "      <td>195660744416</td>\n",
       "      <td>2.095329e+06</td>\n",
       "      <td>1.522448e+05</td>\n",
       "      <td>2134569.625</td>\n",
       "      <td>1.809830e+06</td>\n",
       "      <td>2.306178e+06</td>\n",
       "      <td>1.676330e+06</td>\n",
       "      <td>2.295416e+06</td>\n",
       "      <td>4493.984146</td>\n",
       "      <td>UCq-Fj5jknLsUf-MWSy4_brA</td>\n",
       "    </tr>\n",
       "    <tr>\n",
       "      <th>1</th>\n",
       "      <td>US</td>\n",
       "      <td>ABCkidTV - Nursery Rhymes</td>\n",
       "      <td>Gaming &amp; Apps</td>\n",
       "      <td>Education</td>\n",
       "      <td>ABCkidTV - Nursery Rhymes</td>\n",
       "      <td>138000000</td>\n",
       "      <td>Movies</td>\n",
       "      <td>Entertainment,Music,Movies</td>\n",
       "      <td>2.209901e+08</td>\n",
       "      <td>63</td>\n",
       "      <td>...</td>\n",
       "      <td>133025325473</td>\n",
       "      <td>7.027126e+07</td>\n",
       "      <td>1.837916e+06</td>\n",
       "      <td>1837916.000</td>\n",
       "      <td>4.891832e+06</td>\n",
       "      <td>7.052576e+06</td>\n",
       "      <td>1.265433e+07</td>\n",
       "      <td>1.572284e+07</td>\n",
       "      <td>146.700252</td>\n",
       "      <td>UCbCmjCuTUZos6Inko4u57UQ</td>\n",
       "    </tr>\n",
       "    <tr>\n",
       "      <th>2</th>\n",
       "      <td>IN</td>\n",
       "      <td>SET India</td>\n",
       "      <td>Gaming &amp; Apps</td>\n",
       "      <td>Shows</td>\n",
       "      <td>SET India</td>\n",
       "      <td>137000000</td>\n",
       "      <td>Movies</td>\n",
       "      <td>Entertainment,TV shows,Music,Movies</td>\n",
       "      <td>1.748752e+08</td>\n",
       "      <td>79</td>\n",
       "      <td>...</td>\n",
       "      <td>121741739317</td>\n",
       "      <td>1.095729e+05</td>\n",
       "      <td>NaN</td>\n",
       "      <td>586040.000</td>\n",
       "      <td>2.801276e+05</td>\n",
       "      <td>3.437881e+05</td>\n",
       "      <td>3.536019e+05</td>\n",
       "      <td>3.220336e+05</td>\n",
       "      <td>76.244316</td>\n",
       "      <td>UCpEhnqL0y41EpW2TvWAHD7Q</td>\n",
       "    </tr>\n",
       "    <tr>\n",
       "      <th>3</th>\n",
       "      <td>US</td>\n",
       "      <td>PewDiePie</td>\n",
       "      <td>Gaming &amp; Apps</td>\n",
       "      <td>Gaming</td>\n",
       "      <td>PewDiePie</td>\n",
       "      <td>111000000</td>\n",
       "      <td>Lifestyle</td>\n",
       "      <td>Gaming,Action game,Lifestyle,Action-adventure ...</td>\n",
       "      <td>2.191406e+09</td>\n",
       "      <td>88</td>\n",
       "      <td>...</td>\n",
       "      <td>28424113942</td>\n",
       "      <td>7.718345e+06</td>\n",
       "      <td>NaN</td>\n",
       "      <td>NaN</td>\n",
       "      <td>3.497395e+06</td>\n",
       "      <td>3.094440e+06</td>\n",
       "      <td>3.620274e+06</td>\n",
       "      <td>4.454120e+06</td>\n",
       "      <td>35839.781347</td>\n",
       "      <td>UC-lHJZR3Gqxm24_Vd_AJ5Yw</td>\n",
       "    </tr>\n",
       "    <tr>\n",
       "      <th>4</th>\n",
       "      <td>US</td>\n",
       "      <td>MrBeast</td>\n",
       "      <td>Gaming &amp; Apps</td>\n",
       "      <td>Entertainment</td>\n",
       "      <td>MrBeast</td>\n",
       "      <td>98100000</td>\n",
       "      <td>Lifestyle</td>\n",
       "      <td>Entertainment,Lifestyle,Technology</td>\n",
       "      <td>1.731833e+09</td>\n",
       "      <td>60</td>\n",
       "      <td>...</td>\n",
       "      <td>16242634269</td>\n",
       "      <td>9.876250e+07</td>\n",
       "      <td>NaN</td>\n",
       "      <td>NaN</td>\n",
       "      <td>2.994102e+07</td>\n",
       "      <td>2.994102e+07</td>\n",
       "      <td>2.994102e+07</td>\n",
       "      <td>5.343473e+07</td>\n",
       "      <td>113432.373684</td>\n",
       "      <td>UCX6OQ3DkcsbYNE6H8uQQuVA</td>\n",
       "    </tr>\n",
       "  </tbody>\n",
       "</table>\n",
       "<p>5 rows × 22 columns</p>\n",
       "</div>"
      ],
      "text/plain": [
       "  Country               Channel Name       Category Main Video Category  \\\n",
       "0      IN                   T-Series  Gaming & Apps               Music   \n",
       "1      US  ABCkidTV - Nursery Rhymes  Gaming & Apps           Education   \n",
       "2      IN                  SET India  Gaming & Apps               Shows   \n",
       "3      US                  PewDiePie  Gaming & Apps              Gaming   \n",
       "4      US                    MrBeast  Gaming & Apps       Entertainment   \n",
       "\n",
       "                    username  followers     Main topic  \\\n",
       "0                   T-Series  220000000  Music of Asia   \n",
       "1  ABCkidTV - Nursery Rhymes  138000000         Movies   \n",
       "2                  SET India  137000000         Movies   \n",
       "3                  PewDiePie  111000000      Lifestyle   \n",
       "4                    MrBeast   98100000      Lifestyle   \n",
       "\n",
       "                                         More topics         Likes  \\\n",
       "0           Entertainment,Music of Asia,Music,Movies  1.602680e+09   \n",
       "1                         Entertainment,Music,Movies  2.209901e+08   \n",
       "2                Entertainment,TV shows,Music,Movies  1.748752e+08   \n",
       "3  Gaming,Action game,Lifestyle,Action-adventure ...  2.191406e+09   \n",
       "4                 Entertainment,Lifestyle,Technology  1.731833e+09   \n",
       "\n",
       "   Boost Index  ...         Views    Views Avg.    Avg. 1 Day   Avg. 3 Day  \\\n",
       "0           83  ...  195660744416  2.095329e+06  1.522448e+05  2134569.625   \n",
       "1           63  ...  133025325473  7.027126e+07  1.837916e+06  1837916.000   \n",
       "2           79  ...  121741739317  1.095729e+05           NaN   586040.000   \n",
       "3           88  ...   28424113942  7.718345e+06           NaN          NaN   \n",
       "4           60  ...   16242634269  9.876250e+07           NaN          NaN   \n",
       "\n",
       "     Avg. 7 Day   Avg. 14 Day   Avg. 30 day   Avg. 60 day   Comments Avg  \\\n",
       "0  1.809830e+06  2.306178e+06  1.676330e+06  2.295416e+06    4493.984146   \n",
       "1  4.891832e+06  7.052576e+06  1.265433e+07  1.572284e+07     146.700252   \n",
       "2  2.801276e+05  3.437881e+05  3.536019e+05  3.220336e+05      76.244316   \n",
       "3  3.497395e+06  3.094440e+06  3.620274e+06  4.454120e+06   35839.781347   \n",
       "4  2.994102e+07  2.994102e+07  2.994102e+07  5.343473e+07  113432.373684   \n",
       "\n",
       "               Youtube Link  \n",
       "0  UCq-Fj5jknLsUf-MWSy4_brA  \n",
       "1  UCbCmjCuTUZos6Inko4u57UQ  \n",
       "2  UCpEhnqL0y41EpW2TvWAHD7Q  \n",
       "3  UC-lHJZR3Gqxm24_Vd_AJ5Yw  \n",
       "4  UCX6OQ3DkcsbYNE6H8uQQuVA  \n",
       "\n",
       "[5 rows x 22 columns]"
      ]
     },
     "execution_count": 6,
     "metadata": {},
     "output_type": "execute_result"
    }
   ],
   "source": [
    "df = pd.DataFrame(top_youtubers_updated)\n",
    "df.head()"
   ]
  },
  {
   "cell_type": "code",
   "execution_count": null,
   "id": "cd484e49",
   "metadata": {},
   "outputs": [],
   "source": [
    "#1. CREATE A BAR CHART THAT SHOWS NUMBER OF YOUTUBERS IN EACH COUNTRY FROM THE LIST"
   ]
  },
  {
   "cell_type": "code",
   "execution_count": 7,
   "id": "52bdfa32",
   "metadata": {},
   "outputs": [
    {
     "data": {
      "text/plain": [
       "(array([ 0,  1,  2,  3,  4,  5,  6,  7,  8,  9, 10, 11, 12, 13, 14, 15, 16,\n",
       "        17, 18, 19, 20, 21, 22, 23, 24, 25, 26]),\n",
       " [Text(0, 0, 'AE'),\n",
       "  Text(1, 0, 'AR'),\n",
       "  Text(2, 0, 'AU'),\n",
       "  Text(3, 0, 'BR'),\n",
       "  Text(4, 0, 'BY'),\n",
       "  Text(5, 0, 'CA'),\n",
       "  Text(6, 0, 'CL'),\n",
       "  Text(7, 0, 'CO'),\n",
       "  Text(8, 0, 'ES'),\n",
       "  Text(9, 0, 'ES\\n'),\n",
       "  Text(10, 0, 'GB'),\n",
       "  Text(11, 0, 'ID'),\n",
       "  Text(12, 0, 'IE'),\n",
       "  Text(13, 0, 'IN'),\n",
       "  Text(14, 0, 'KR'),\n",
       "  Text(15, 0, 'KW'),\n",
       "  Text(16, 0, 'MX'),\n",
       "  Text(17, 0, 'NL'),\n",
       "  Text(18, 0, 'NO'),\n",
       "  Text(19, 0, 'PH'),\n",
       "  Text(20, 0, 'PK'),\n",
       "  Text(21, 0, 'PR'),\n",
       "  Text(22, 0, 'RU'),\n",
       "  Text(23, 0, 'SO'),\n",
       "  Text(24, 0, 'SV'),\n",
       "  Text(25, 0, 'TH'),\n",
       "  Text(26, 0, 'US')])"
      ]
     },
     "execution_count": 7,
     "metadata": {},
     "output_type": "execute_result"
    },
    {
     "data": {
      "image/png": "[encoded data removed]",
      "text/plain": [
       "<Figure size 720x432 with 1 Axes>"
      ]
     },
     "metadata": {
      "needs_background": "light"
     },
     "output_type": "display_data"
    }
   ],
   "source": [
    "df_groups_1 = df.groupby('Country')['Channel Name'].count()\n",
    "df_groups_1.plot(kind='bar', title='Country vs Number of Youtubers',\n",
    "                ylabel = 'Number of Youtubers',\n",
    "                xlabel = 'Country', figsize = (10,6))\n",
    "plt.xticks(rotation=0)"
   ]
  },
  {
   "cell_type": "code",
   "execution_count": null,
   "id": "568cae4f",
   "metadata": {},
   "outputs": [],
   "source": [
    "#2. CREATE A BAR CHART THAT SHOWS ACCUMULATED SUBSCRIBER COUNT FOR EACH COUNTRY OF ORIGIN OF YOUTUBER FROM THE LIST"
   ]
  },
  {
   "cell_type": "code",
   "execution_count": 8,
   "id": "460b73ee",
   "metadata": {
    "scrolled": false
   },
   "outputs": [
    {
     "data": {
      "text/plain": [
       "(array([ 0,  1,  2,  3,  4,  5,  6,  7,  8,  9, 10, 11, 12, 13, 14, 15, 16,\n",
       "        17, 18, 19, 20, 21, 22, 23, 24, 25, 26]),\n",
       " [Text(0, 0, 'AE'),\n",
       "  Text(1, 0, 'AR'),\n",
       "  Text(2, 0, 'AU'),\n",
       "  Text(3, 0, 'BR'),\n",
       "  Text(4, 0, 'BY'),\n",
       "  Text(5, 0, 'CA'),\n",
       "  Text(6, 0, 'CL'),\n",
       "  Text(7, 0, 'CO'),\n",
       "  Text(8, 0, 'ES'),\n",
       "  Text(9, 0, 'ES\\n'),\n",
       "  Text(10, 0, 'GB'),\n",
       "  Text(11, 0, 'ID'),\n",
       "  Text(12, 0, 'IE'),\n",
       "  Text(13, 0, 'IN'),\n",
       "  Text(14, 0, 'KR'),\n",
       "  Text(15, 0, 'KW'),\n",
       "  Text(16, 0, 'MX'),\n",
       "  Text(17, 0, 'NL'),\n",
       "  Text(18, 0, 'NO'),\n",
       "  Text(19, 0, 'PH'),\n",
       "  Text(20, 0, 'PK'),\n",
       "  Text(21, 0, 'PR'),\n",
       "  Text(22, 0, 'RU'),\n",
       "  Text(23, 0, 'SO'),\n",
       "  Text(24, 0, 'SV'),\n",
       "  Text(25, 0, 'TH'),\n",
       "  Text(26, 0, 'US')])"
      ]
     },
     "execution_count": 8,
     "metadata": {},
     "output_type": "execute_result"
    },
    {
     "data": {
      "image/png": "[encoded data removed]",
      "text/plain": [
       "<Figure size 720x432 with 1 Axes>"
      ]
     },
     "metadata": {
      "needs_background": "light"
     },
     "output_type": "display_data"
    }
   ],
   "source": [
    "df_groups = df.groupby('Country')['followers'].sum()\n",
    "df_groups.plot(kind='bar', title='Country vs Subscriber Count',\n",
    "              ylabel = 'Subscriber Count (in Billion)',\n",
    "              xlabel = 'Country', figsize=(10,6))\n",
    "\n",
    "plt.xticks(rotation=0)"
   ]
  },
  {
   "cell_type": "code",
   "execution_count": null,
   "id": "d5e23a58",
   "metadata": {},
   "outputs": [],
   "source": [
    "#3. CREATE A BAR CHART THAT SHOWS ACCUMULATED VIEW COUNT FOR EACH COUNTRY OF ORIGIN OF YOUTUBER FROM THE LIST"
   ]
  },
  {
   "cell_type": "code",
   "execution_count": 9,
   "id": "c8f7d851",
   "metadata": {},
   "outputs": [
    {
     "data": {
      "text/plain": [
       "(array([ 0,  1,  2,  3,  4,  5,  6,  7,  8,  9, 10, 11, 12, 13, 14, 15, 16,\n",
       "        17, 18, 19, 20, 21, 22, 23, 24, 25, 26]),\n",
       " [Text(0, 0, 'AE'),\n",
       "  Text(1, 0, 'AR'),\n",
       "  Text(2, 0, 'AU'),\n",
       "  Text(3, 0, 'BR'),\n",
       "  Text(4, 0, 'BY'),\n",
       "  Text(5, 0, 'CA'),\n",
       "  Text(6, 0, 'CL'),\n",
       "  Text(7, 0, 'CO'),\n",
       "  Text(8, 0, 'ES'),\n",
       "  Text(9, 0, 'ES\\n'),\n",
       "  Text(10, 0, 'GB'),\n",
       "  Text(11, 0, 'ID'),\n",
       "  Text(12, 0, 'IE'),\n",
       "  Text(13, 0, 'IN'),\n",
       "  Text(14, 0, 'KR'),\n",
       "  Text(15, 0, 'KW'),\n",
       "  Text(16, 0, 'MX'),\n",
       "  Text(17, 0, 'NL'),\n",
       "  Text(18, 0, 'NO'),\n",
       "  Text(19, 0, 'PH'),\n",
       "  Text(20, 0, 'PK'),\n",
       "  Text(21, 0, 'PR'),\n",
       "  Text(22, 0, 'RU'),\n",
       "  Text(23, 0, 'SO'),\n",
       "  Text(24, 0, 'SV'),\n",
       "  Text(25, 0, 'TH'),\n",
       "  Text(26, 0, 'US')])"
      ]
     },
     "execution_count": 9,
     "metadata": {},
     "output_type": "execute_result"
    },
    {
     "data": {
      "image/png": "[encoded data removed]",
      "text/plain": [
       "<Figure size 720x432 with 1 Axes>"
      ]
     },
     "metadata": {
      "needs_background": "light"
     },
     "output_type": "display_data"
    }
   ],
   "source": [
    "df_groups_2 = df.groupby('Country')['Views'].sum()\n",
    "df_groups_2.plot(kind='bar', title='Country vs View Count',\n",
    "              ylabel = 'View Count (in trillion)',\n",
    "              xlabel = 'Country', figsize=(10,6))\n",
    "\n",
    "plt.xticks(rotation=0)"
   ]
  },
  {
   "cell_type": "markdown",
   "id": "e6930985",
   "metadata": {},
   "source": [
    "What is the relationship between Subscriber Count and Views Count?"
   ]
  },
  {
   "cell_type": "code",
   "execution_count": 12,
   "id": "321b6b1c",
   "metadata": {},
   "outputs": [],
   "source": [
    "x_subs = np.array(df['followers'])\n",
    "y_view = np.array(df['Views'])"
   ]
  },
  {
   "cell_type": "code",
   "execution_count": 42,
   "id": "9f5d8d25",
   "metadata": {},
   "outputs": [
    {
     "data": {
      "image/png": "[encoded data removed]",
      "text/plain": [
       "<Figure size 432x288 with 1 Axes>"
      ]
     },
     "metadata": {
      "needs_background": "light"
     },
     "output_type": "display_data"
    }
   ],
   "source": [
    "plt.plot(x_subs, y_view, 'x')\n",
    "m, b = np.polyfit(x_subs, y_view, 1)\n",
    "\n",
    "#PLOTTING LINE OF BEST FIT\n",
    "plt.plot(x_subs, x_subs*m + b)\n",
    "plt.xlabel(\"Subscriber Count (in 100 million)\")\n",
    "plt.ylabel(\"Views Count (in 100 billion)\")\n",
    "plt.title(\"Subscriber Count vs Views Count\")\n",
    "plt.show()"
   ]
  },
  {
   "cell_type": "code",
   "execution_count": 19,
   "id": "bad5501b",
   "metadata": {},
   "outputs": [
    {
     "name": "stdout",
     "output_type": "stream",
     "text": [
      "-9969910461.664383\n"
     ]
    }
   ],
   "source": [
    "#Y-INTERCEPT FOR THIS INVESTIGATION\n",
    "y_view_intercept = np.polyfit(x_subs, y_view, 1)\n",
    "print(y_view_intercept[1])"
   ]
  },
  {
   "cell_type": "code",
   "execution_count": 22,
   "id": "f943b7b5",
   "metadata": {},
   "outputs": [
    {
     "data": {
      "text/plain": [
       "array([[1.       , 0.8272808],\n",
       "       [0.8272808, 1.       ]])"
      ]
     },
     "execution_count": 22,
     "metadata": {},
     "output_type": "execute_result"
    }
   ],
   "source": [
    "#COEFFICIENT MATRIX FOR SUBSCRIBER COUNT VS VIEWS COUNT\n",
    "cor_matrix = np.corrcoef(x_subs, y_view)\n",
    "cor_matrix"
   ]
  },
  {
   "cell_type": "code",
   "execution_count": 23,
   "id": "d0bb90e0",
   "metadata": {},
   "outputs": [
    {
     "data": {
      "text/plain": [
       "0.684393524018525"
      ]
     },
     "execution_count": 23,
     "metadata": {},
     "output_type": "execute_result"
    }
   ],
   "source": [
    "#R2 FOR SUBSCRIBER COUNT VS VIEWS COUNT\n",
    "cor = cor_matrix[0,1]\n",
    "R_sq_1 = cor**2\n",
    "R_sq_1"
   ]
  },
  {
   "cell_type": "markdown",
   "id": "5614cd19",
   "metadata": {},
   "source": [
    "Based on the above investigation, it is concluded that subscriber count and views count are positively correlated to each other."
   ]
  },
  {
   "cell_type": "markdown",
   "id": "dd42b8b4",
   "metadata": {},
   "source": [
    "What is the relationship between Subscriber Count and Engagement Rate?"
   ]
  },
  {
   "cell_type": "code",
   "execution_count": 68,
   "id": "602f403e",
   "metadata": {},
   "outputs": [],
   "source": [
    "x_subs = np.array(df['followers'])\n",
    "y_eng = np.array(df['Engagement Rate'])"
   ]
  },
  {
   "cell_type": "code",
   "execution_count": 69,
   "id": "4eccde75",
   "metadata": {},
   "outputs": [
    {
     "name": "stdout",
     "output_type": "stream",
     "text": [
      "     followers  Engagement Rate\n",
      "0    220000000         0.033463\n",
      "1    138000000         0.641716\n",
      "2    137000000         0.001206\n",
      "3    111000000         0.063426\n",
      "4     98100000         0.729210\n",
      "..         ...              ...\n",
      "195   24100000         0.014768\n",
      "196   24000000         1.529448\n",
      "197   24000000         1.015853\n",
      "198   24000000         0.406231\n",
      "199   24000000         0.030720\n",
      "\n",
      "[199 rows x 2 columns]\n"
     ]
    }
   ],
   "source": [
    "#DROP NaN values:\n",
    "df2 = pd.DataFrame({'followers': x_subs, 'Engagement Rate': y_eng})\n",
    "df2.dropna\n",
    "\n",
    "df2 = df2.apply(pd.to_numeric, errors='coerce')\n",
    "df2 = df2.dropna()\n",
    "\n",
    "print(df2)"
   ]
  },
  {
   "cell_type": "code",
   "execution_count": 70,
   "id": "fd241992",
   "metadata": {},
   "outputs": [
    {
     "data": {
      "image/png": "[encoded data removed]",
      "text/plain": [
       "<Figure size 432x288 with 1 Axes>"
      ]
     },
     "metadata": {
      "needs_background": "light"
     },
     "output_type": "display_data"
    }
   ],
   "source": [
    "plt.plot(df2['followers'], df2['Engagement Rate'], 'x')\n",
    "m, b = np.polyfit(df2['followers'], df2['Engagement Rate'], 1)\n",
    "\n",
    "#PLOTTING LINE OF BEST FIT\n",
    "plt.plot(df2['followers'], df2['followers']*m + b)\n",
    "plt.xlabel(\"Subscriber Count (in 100 million)\")\n",
    "plt.ylabel(\"Engagement Rate\")\n",
    "plt.title(\"Subscriber Count vs Engagement Rate\")\n",
    "plt.show()"
   ]
  },
  {
   "cell_type": "code",
   "execution_count": 57,
   "id": "b730da35",
   "metadata": {},
   "outputs": [
    {
     "name": "stdout",
     "output_type": "stream",
     "text": [
      "0.6330633058644599\n"
     ]
    }
   ],
   "source": [
    "#Y-INTERCEPT FOR THIS INVESTIGATION\n",
    "y_view_intercept_2 = np.polyfit(df2['followers'], df2['Engagement Rate'], 1)\n",
    "print(y_view_intercept_2[1])"
   ]
  },
  {
   "cell_type": "code",
   "execution_count": 58,
   "id": "f342f384",
   "metadata": {},
   "outputs": [
    {
     "data": {
      "text/plain": [
       "array([[ 1.        , -0.09235031],\n",
       "       [-0.09235031,  1.        ]])"
      ]
     },
     "execution_count": 58,
     "metadata": {},
     "output_type": "execute_result"
    }
   ],
   "source": [
    "#COEFFICIENT MATRIX FOR SUBSCRIBER COUNT VS ENGAGEMENT RATE\n",
    "cor_matrix2 = np.corrcoef(df2['followers'], df2['Engagement Rate'])\n",
    "cor_matrix2"
   ]
  },
  {
   "cell_type": "code",
   "execution_count": 59,
   "id": "88ea6c77",
   "metadata": {},
   "outputs": [
    {
     "data": {
      "text/plain": [
       "0.008528579931647023"
      ]
     },
     "execution_count": 59,
     "metadata": {},
     "output_type": "execute_result"
    }
   ],
   "source": [
    "#R2 FOR SUBSCRIBER COUNT VS ENGAGEMENT RATE\n",
    "cor2 = cor_matrix2[0,1]\n",
    "R_sq_2 = cor2**2\n",
    "R_sq_2"
   ]
  },
  {
   "cell_type": "markdown",
   "id": "302d607b",
   "metadata": {},
   "source": [
    "This shows that Subscriber Count and Engagement Rate have a very weak positive correlation to each other."
   ]
  },
  {
   "cell_type": "markdown",
   "id": "60c3e4bb",
   "metadata": {},
   "source": [
    "What is the relationship between Subscriber Count and Boost Index?"
   ]
  },
  {
   "cell_type": "code",
   "execution_count": 71,
   "id": "57c4a8db",
   "metadata": {},
   "outputs": [],
   "source": [
    "x_subs = np.array(df['followers'])\n",
    "y_bi = np.array(df['Boost Index'])"
   ]
  },
  {
   "cell_type": "code",
   "execution_count": 72,
   "id": "093efc9e",
   "metadata": {},
   "outputs": [
    {
     "name": "stdout",
     "output_type": "stream",
     "text": [
      "     followers  Boost Index\n",
      "0    220000000           83\n",
      "1    138000000           63\n",
      "2    137000000           79\n",
      "3    111000000           88\n",
      "4     98100000           60\n",
      "..         ...          ...\n",
      "195   24100000           74\n",
      "196   24000000           57\n",
      "197   24000000           60\n",
      "198   24000000           61\n",
      "199   24000000           63\n",
      "\n",
      "[200 rows x 2 columns]\n"
     ]
    }
   ],
   "source": [
    "#DROP NaN values:\n",
    "df3 = pd.DataFrame({'followers': x_subs, 'Boost Index': y_bi})\n",
    "df3.dropna\n",
    "\n",
    "df3 = df3.apply(pd.to_numeric, errors='coerce')\n",
    "df3 = df3.dropna()\n",
    "\n",
    "print(df3)"
   ]
  },
  {
   "cell_type": "code",
   "execution_count": 64,
   "id": "ec723345",
   "metadata": {},
   "outputs": [
    {
     "data": {
      "image/png": "[encoded data removed]",
      "text/plain": [
       "<Figure size 432x288 with 1 Axes>"
      ]
     },
     "metadata": {
      "needs_background": "light"
     },
     "output_type": "display_data"
    }
   ],
   "source": [
    "plt.plot(df3['followers'], df3['Boost Index'], 'x')\n",
    "m, b = np.polyfit(df3['followers'], df3['Boost Index'], 1)\n",
    "\n",
    "#PLOTTING LINE OF BEST FIT\n",
    "plt.plot(df3['followers'], df3['followers']*m + b)\n",
    "plt.xlabel(\"Subscriber Count (in 100 million)\")\n",
    "plt.ylabel(\"Boost Index\")\n",
    "plt.title(\"Subscriber Count vs Boost Index\")\n",
    "plt.show()"
   ]
  },
  {
   "cell_type": "code",
   "execution_count": 65,
   "id": "6567cc46",
   "metadata": {},
   "outputs": [
    {
     "name": "stdout",
     "output_type": "stream",
     "text": [
      "59.13607564811731\n"
     ]
    }
   ],
   "source": [
    "#Y-INTERCEPT FOR THIS INVESTIGATION\n",
    "y_view_intercept_3 = np.polyfit(df3['followers'], df3['Boost Index'], 1)\n",
    "print(y_view_intercept_3[1])"
   ]
  },
  {
   "cell_type": "code",
   "execution_count": 66,
   "id": "3b22eb0e",
   "metadata": {},
   "outputs": [
    {
     "data": {
      "text/plain": [
       "array([[1.        , 0.20294472],\n",
       "       [0.20294472, 1.        ]])"
      ]
     },
     "execution_count": 66,
     "metadata": {},
     "output_type": "execute_result"
    }
   ],
   "source": [
    "#COEFFICIENT MATRIX FOR SUBSCRIBER COUNT VS BOOST INDEX\n",
    "cor_matrix3 = np.corrcoef(df3['followers'], df3['Boost Index'])\n",
    "cor_matrix3"
   ]
  },
  {
   "cell_type": "code",
   "execution_count": 67,
   "id": "23498576",
   "metadata": {},
   "outputs": [
    {
     "data": {
      "text/plain": [
       "0.04118655802556799"
      ]
     },
     "execution_count": 67,
     "metadata": {},
     "output_type": "execute_result"
    }
   ],
   "source": [
    "#R2 FOR SUBSCRIBER COUNT VS BOOST INDEX\n",
    "cor3 = cor_matrix3[0,1]\n",
    "R_sq_3 = cor3**2\n",
    "R_sq_3"
   ]
  },
  {
   "cell_type": "markdown",
   "id": "5c5a3e07",
   "metadata": {},
   "source": [
    "This shows that Subscriber Count and Boost Index have a very weak positive correlation to each other."
   ]
  },
  {
   "cell_type": "markdown",
   "id": "eed3758e",
   "metadata": {},
   "source": [
    "What is the relationship between Views Count and Engagement Rate?"
   ]
  },
  {
   "cell_type": "code",
   "execution_count": 73,
   "id": "2a8399ef",
   "metadata": {},
   "outputs": [],
   "source": [
    "x_views = np.array(df['Views'])\n",
    "y_eng = np.array(df['Engagement Rate'])"
   ]
  },
  {
   "cell_type": "code",
   "execution_count": 74,
   "id": "94723dee",
   "metadata": {},
   "outputs": [
    {
     "name": "stdout",
     "output_type": "stream",
     "text": [
      "            Views  Engagement Rate\n",
      "0    195660744416         0.033463\n",
      "1    133025325473         0.641716\n",
      "2    121741739317         0.001206\n",
      "3     28424113942         0.063426\n",
      "4     16242634269         0.729210\n",
      "..            ...              ...\n",
      "195   22431615067         0.014768\n",
      "196   12252459767         1.529448\n",
      "197    2227021034         1.015853\n",
      "198    3664440993         0.406231\n",
      "199    5551273418         0.030720\n",
      "\n",
      "[199 rows x 2 columns]\n"
     ]
    }
   ],
   "source": [
    "#DROP NaN values:\n",
    "df4 = pd.DataFrame({'Views': x_views, 'Engagement Rate': y_eng})\n",
    "df4.dropna\n",
    "\n",
    "df4 = df4.apply(pd.to_numeric, errors='coerce')\n",
    "df4 = df4.dropna()\n",
    "\n",
    "print(df4)"
   ]
  },
  {
   "cell_type": "code",
   "execution_count": 76,
   "id": "f5a55bc3",
   "metadata": {},
   "outputs": [
    {
     "data": {
      "image/png": "[encoded data removed]",
      "text/plain": [
       "<Figure size 432x288 with 1 Axes>"
      ]
     },
     "metadata": {
      "needs_background": "light"
     },
     "output_type": "display_data"
    }
   ],
   "source": [
    "plt.plot(df4['Views'], df4['Engagement Rate'], 'x')\n",
    "m, b = np.polyfit(df4['Views'], df4['Engagement Rate'], 1)\n",
    "\n",
    "#PLOTTING LINE OF BEST FIT\n",
    "plt.plot(df4['Views'], df4['Views']*m + b)\n",
    "plt.xlabel(\"Views Count (in 100 billion)\")\n",
    "plt.ylabel(\"Engagement Rate\")\n",
    "plt.title(\"Views Count vs Engagement Rate\")\n",
    "plt.show()"
   ]
  },
  {
   "cell_type": "code",
   "execution_count": 77,
   "id": "dae8916f",
   "metadata": {},
   "outputs": [
    {
     "name": "stdout",
     "output_type": "stream",
     "text": [
      "0.5013175486794086\n"
     ]
    }
   ],
   "source": [
    "#Y-INTERCEPT FOR THIS INVESTIGATION\n",
    "y_view_intercept_4 = np.polyfit(df4['Views'], df4['Engagement Rate'], 1)\n",
    "print(y_view_intercept_4[1])"
   ]
  },
  {
   "cell_type": "code",
   "execution_count": 78,
   "id": "585fb634",
   "metadata": {},
   "outputs": [
    {
     "data": {
      "text/plain": [
       "array([[ 1.        , -0.03873747],\n",
       "       [-0.03873747,  1.        ]])"
      ]
     },
     "execution_count": 78,
     "metadata": {},
     "output_type": "execute_result"
    }
   ],
   "source": [
    "#COEFFICIENT MATRIX FOR VIEWS COUNT VS ENGAGEMENT RATE\n",
    "cor_matrix4 = np.corrcoef(df4['Views'], df4['Engagement Rate'])\n",
    "cor_matrix4"
   ]
  },
  {
   "cell_type": "code",
   "execution_count": 79,
   "id": "39ad8258",
   "metadata": {},
   "outputs": [
    {
     "data": {
      "text/plain": [
       "0.001500591379162558"
      ]
     },
     "execution_count": 79,
     "metadata": {},
     "output_type": "execute_result"
    }
   ],
   "source": [
    "#R2 FOR VIEWS COUNT VS ENGAGEMENT RATE\n",
    "cor4 = cor_matrix4[0,1]\n",
    "R_sq_4 = cor4**2\n",
    "R_sq_4"
   ]
  },
  {
   "cell_type": "markdown",
   "id": "17a6464d",
   "metadata": {},
   "source": [
    "This shows that Views Count and Engagement Rate have a very weak negative correlation to each other."
   ]
  },
  {
   "cell_type": "markdown",
   "id": "4d9972f7",
   "metadata": {},
   "source": [
    "What is the relationship between Views Count and Boost Index?"
   ]
  },
  {
   "cell_type": "code",
   "execution_count": 80,
   "id": "5c67d87b",
   "metadata": {},
   "outputs": [],
   "source": [
    "x_views = np.array(df['Views'])\n",
    "y_bi = np.array(df['Boost Index'])"
   ]
  },
  {
   "cell_type": "code",
   "execution_count": 81,
   "id": "f88f7540",
   "metadata": {},
   "outputs": [
    {
     "name": "stdout",
     "output_type": "stream",
     "text": [
      "            Views  Boost Index\n",
      "0    195660744416           83\n",
      "1    133025325473           63\n",
      "2    121741739317           79\n",
      "3     28424113942           88\n",
      "4     16242634269           60\n",
      "..            ...          ...\n",
      "195   22431615067           74\n",
      "196   12252459767           57\n",
      "197    2227021034           60\n",
      "198    3664440993           61\n",
      "199    5551273418           63\n",
      "\n",
      "[200 rows x 2 columns]\n"
     ]
    }
   ],
   "source": [
    "#DROP NaN values:\n",
    "df5 = pd.DataFrame({'Views': x_views, 'Boost Index': y_bi})\n",
    "df5.dropna\n",
    "\n",
    "df5 = df5.apply(pd.to_numeric, errors='coerce')\n",
    "df5 = df5.dropna()\n",
    "\n",
    "print(df5)"
   ]
  },
  {
   "cell_type": "code",
   "execution_count": 82,
   "id": "a5db9db4",
   "metadata": {
    "scrolled": true
   },
   "outputs": [
    {
     "data": {
      "image/png": "[encoded data removed]",
      "text/plain": [
       "<Figure size 432x288 with 1 Axes>"
      ]
     },
     "metadata": {
      "needs_background": "light"
     },
     "output_type": "display_data"
    }
   ],
   "source": [
    "plt.plot(df5['Views'], df5['Boost Index'], 'x')\n",
    "m, b = np.polyfit(df5['Views'], df5['Boost Index'], 1)\n",
    "\n",
    "#PLOTTING LINE OF BEST FIT\n",
    "plt.plot(df5['Views'], df5['Views']*m + b)\n",
    "plt.xlabel(\"Views Count (in 100 billion)\")\n",
    "plt.ylabel(\"Boost Index\")\n",
    "plt.title(\"Views Count vs Boost Index\")\n",
    "plt.show()"
   ]
  },
  {
   "cell_type": "code",
   "execution_count": 85,
   "id": "e1034604",
   "metadata": {},
   "outputs": [
    {
     "name": "stdout",
     "output_type": "stream",
     "text": [
      "61.853311802868994\n"
     ]
    }
   ],
   "source": [
    "#Y-INTERCEPT FOR THIS INVESTIGATION\n",
    "y_view_intercept_5 = np.polyfit(df5['Views'], df5['Boost Index'], 1)\n",
    "print(y_view_intercept_5[1])"
   ]
  },
  {
   "cell_type": "code",
   "execution_count": 83,
   "id": "382c40e6",
   "metadata": {},
   "outputs": [
    {
     "data": {
      "text/plain": [
       "array([[1.        , 0.19430335],\n",
       "       [0.19430335, 1.        ]])"
      ]
     },
     "execution_count": 83,
     "metadata": {},
     "output_type": "execute_result"
    }
   ],
   "source": [
    "#COEFFICIENT MATRIX FOR VIEWS COUNT VS BOOST INDEX\n",
    "cor_matrix5 = np.corrcoef(df5['Views'], df5['Boost Index'])\n",
    "cor_matrix5"
   ]
  },
  {
   "cell_type": "code",
   "execution_count": 84,
   "id": "bae8838b",
   "metadata": {},
   "outputs": [
    {
     "data": {
      "text/plain": [
       "0.001500591379162558"
      ]
     },
     "execution_count": 84,
     "metadata": {},
     "output_type": "execute_result"
    }
   ],
   "source": [
    "#R2 FOR VIEWS COUNT VS BOOST INDEX\n",
    "cor5 = cor_matrix5[0,1]\n",
    "R_sq_5 = cor4**2\n",
    "R_sq_5"
   ]
  },
  {
   "cell_type": "markdown",
   "id": "7c847a5f",
   "metadata": {},
   "source": [
    "This shows that Views Count and Boost Index have a slightly positive correlation to each other."
   ]
  },
  {
   "cell_type": "code",
   "execution_count": null,
   "id": "eeafb470",
   "metadata": {},
   "outputs": [],
   "source": []
  }
 ],
 "metadata": {
  "kernelspec": {
   "display_name": "Python 3 (ipykernel)",
   "language": "python",
   "name": "python3"
  },
  "language_info": {
   "codemirror_mode": {
    "name": "ipython",
    "version": 3
   },
   "file_extension": ".py",
   "mimetype": "text/x-python",
   "name": "python",
   "nbconvert_exporter": "python",
   "pygments_lexer": "ipython3",
   "version": "3.9.12"
  }
 },
 "nbformat": 4,
 "nbformat_minor": 5
}
